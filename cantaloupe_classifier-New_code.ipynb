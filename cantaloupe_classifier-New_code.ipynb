{
 "cells": [
  {
   "cell_type": "code",
   "execution_count": 1,
   "id": "1a5c2371-07e1-457b-bc0a-2b0a3c4e616a",
   "metadata": {},
   "outputs": [],
   "source": [
    "# 1. IMPORTS\n",
    "import os\n",
    "import numpy as np\n",
    "import pandas as pd\n",
    "import librosa\n",
    "from sklearn.model_selection import train_test_split\n",
    "from sklearn.preprocessing import StandardScaler\n",
    "from sklearn.metrics import confusion_matrix, classification_report\n",
    "from sklearn.utils import class_weight\n",
    "import tensorflow as tf\n",
    "from tensorflow.keras.models import Sequential\n",
    "from tensorflow.keras.layers import Dense, Dropout\n",
    "from tensorflow.keras.callbacks import EarlyStopping\n",
    "import matplotlib.pyplot as plt\n",
    "import seaborn as sns"
   ]
  },
  {
   "cell_type": "code",
   "execution_count": 2,
   "id": "e4e6e655-a563-4e59-b351-bef8c3638d2a",
   "metadata": {},
   "outputs": [],
   "source": [
    "# 2. PATHS\n",
    "RIPE_DIR = \"data/ripe/\"\n",
    "UNRIPE_DIR = \"data/unripe/\"\n",
    "MODEL_SAVE_PATH = \"models/ripeness_classifier_v1.h5\" #rename the model aron dili mag duplicate"
   ]
  },
  {
   "cell_type": "code",
   "execution_count": 3,
   "id": "c570a7db-fb8c-4b1e-8619-907acadb2da5",
   "metadata": {},
   "outputs": [],
   "source": [
    "# 3. FEATURE EXTRACTION\n",
    "def extract_features(file_path):\n",
    "    y, sr = librosa.load(file_path, sr=None)\n",
    "    mfccs = librosa.feature.mfcc(y=y, sr=sr, n_mfcc=13)\n",
    "    mfcc_mean = np.mean(mfccs, axis=1)\n",
    "    mfcc_var = np.var(mfccs, axis=1)\n",
    "    features = {\n",
    "        **{f'mfcc_mean_{i+1}': mfcc_mean[i] for i in range(13)},\n",
    "        **{f'mfcc_var_{i+1}': mfcc_var[i] for i in range(13)},\n",
    "        'zcr': np.mean(librosa.feature.zero_crossing_rate(y)),\n",
    "        'rms': np.mean(librosa.feature.rms(y=y)),\n",
    "        'centroid': np.mean(librosa.feature.spectral_centroid(y=y, sr=sr))\n",
    "    }\n",
    "    return features\n",
    "\n",
    "def build_dataset(ripe_dir, unripe_dir):\n",
    "    features, labels = [], []\n",
    "    for f in os.listdir(ripe_dir):\n",
    "        if f.endswith('.wav'):\n",
    "            feat = extract_features(os.path.join(ripe_dir, f))\n",
    "            features.append(feat)\n",
    "            labels.append(1)\n",
    "    for f in os.listdir(unripe_dir):\n",
    "        if f.endswith('.wav'):\n",
    "            feat = extract_features(os.path.join(unripe_dir, f))\n",
    "            features.append(feat)\n",
    "            labels.append(0)\n",
    "    df = pd.DataFrame(features)\n",
    "    df[\"label\"] = labels\n",
    "    return df\n"
   ]
  },
  {
   "cell_type": "code",
   "execution_count": 4,
   "id": "b86caa1a-b655-4fb5-9727-cc6663a53523",
   "metadata": {},
   "outputs": [],
   "source": [
    "# 4. PREPARE DATA\n",
    "def prepare_data(df):\n",
    "    X = df.drop(\"label\", axis=1)\n",
    "    y = df[\"label\"]\n",
    "    X_train, X_test, y_train, y_test = train_test_split(X, y, stratify=y, test_size=0.2, random_state=42)\n",
    "    scaler = StandardScaler()\n",
    "    X_train_scaled = scaler.fit_transform(X_train)\n",
    "    X_test_scaled = scaler.transform(X_test)\n",
    "    return X_train_scaled, X_test_scaled, y_train, y_test, scaler"
   ]
  },
  {
   "cell_type": "code",
   "execution_count": 5,
   "id": "a428134a-886c-4aa6-b3ba-7718cc776999",
   "metadata": {},
   "outputs": [],
   "source": [
    "# 5. MODEL ARCHITECTURE\n",
    "def create_model(input_dim):\n",
    "    model = Sequential([\n",
    "        Dense(64, activation='relu', input_dim=input_dim),\n",
    "        Dropout(0.3),\n",
    "        Dense(32, activation='relu'),\n",
    "        Dropout(0.2),\n",
    "        Dense(1, activation='sigmoid')\n",
    "    ])\n",
    "    model.compile(optimizer='adam', loss='binary_crossentropy', metrics=['accuracy'])\n",
    "    return model"
   ]
  },
  {
   "cell_type": "code",
   "execution_count": 6,
   "id": "7f9875ed-04ed-4e6b-8316-260c63765a93",
   "metadata": {},
   "outputs": [],
   "source": [
    "# 6. TRAINING\n",
    "def train_model(model, X_train, y_train):\n",
    "    weights = class_weight.compute_class_weight('balanced', classes=np.unique(y_train), y=y_train)\n",
    "    class_weights = {0: weights[0], 1: weights[1]}\n",
    "    early_stop = EarlyStopping(monitor='val_loss', patience=10, restore_best_weights=True)\n",
    "    history = model.fit(\n",
    "        X_train, y_train,\n",
    "        epochs=100,\n",
    "        batch_size=16,\n",
    "        validation_split=0.2,\n",
    "        callbacks=[early_stop],\n",
    "        class_weight=class_weights,\n",
    "        verbose=1\n",
    "    )\n",
    "    return model, history"
   ]
  },
  {
   "cell_type": "code",
   "execution_count": 7,
   "id": "d51f1287-4f65-40b9-84c6-8602f6e36c0a",
   "metadata": {},
   "outputs": [],
   "source": [
    "# 7. EVALUATION\n",
    "def evaluate_model(model, X_test, y_test, threshold=0.6):\n",
    "    y_pred_probs = model.predict(X_test)\n",
    "    y_pred = (y_pred_probs > threshold).astype(int)\n",
    "    print(\"Classification Report:\\n\", classification_report(y_test, y_pred))\n",
    "    cm = confusion_matrix(y_test, y_pred)\n",
    "    sns.heatmap(cm, annot=True, fmt=\"d\", cmap=\"Blues\", xticklabels=[\"Unripe\", \"Ripe\"], yticklabels=[\"Unripe\", \"Ripe\"])\n",
    "    plt.xlabel(\"Predicted\")\n",
    "    plt.ylabel(\"Actual\")\n",
    "    plt.title(f\"Confusion Matrix (Threshold: {threshold})\")\n",
    "    plt.show()\n"
   ]
  },
  {
   "cell_type": "code",
   "execution_count": 8,
   "id": "7babcdc2-c8e5-465b-ab5d-05d663bb4f48",
   "metadata": {},
   "outputs": [
    {
     "name": "stdout",
     "output_type": "stream",
     "text": [
      "Epoch 1/100\n"
     ]
    },
    {
     "name": "stderr",
     "output_type": "stream",
     "text": [
      "C:\\Users\\user\\anaconda3\\envs\\cantaloupe_classifier\\lib\\site-packages\\keras\\src\\layers\\core\\dense.py:87: UserWarning: Do not pass an `input_shape`/`input_dim` argument to a layer. When using Sequential models, prefer using an `Input(shape)` object as the first layer in the model instead.\n",
      "  super().__init__(activity_regularizer=activity_regularizer, **kwargs)\n"
     ]
    },
    {
     "name": "stdout",
     "output_type": "stream",
     "text": [
      "\u001b[1m5/5\u001b[0m \u001b[32m━━━━━━━━━━━━━━━━━━━━\u001b[0m\u001b[37m\u001b[0m \u001b[1m1s\u001b[0m 59ms/step - accuracy: 0.4999 - loss: 0.7272 - val_accuracy: 0.7500 - val_loss: 0.5803\n",
      "Epoch 2/100\n",
      "\u001b[1m5/5\u001b[0m \u001b[32m━━━━━━━━━━━━━━━━━━━━\u001b[0m\u001b[37m\u001b[0m \u001b[1m0s\u001b[0m 20ms/step - accuracy: 0.6438 - loss: 0.6423 - val_accuracy: 0.7500 - val_loss: 0.5839\n",
      "Epoch 3/100\n",
      "\u001b[1m5/5\u001b[0m \u001b[32m━━━━━━━━━━━━━━━━━━━━\u001b[0m\u001b[37m\u001b[0m \u001b[1m0s\u001b[0m 20ms/step - accuracy: 0.8318 - loss: 0.5237 - val_accuracy: 0.7000 - val_loss: 0.5956\n",
      "Epoch 4/100\n",
      "\u001b[1m5/5\u001b[0m \u001b[32m━━━━━━━━━━━━━━━━━━━━\u001b[0m\u001b[37m\u001b[0m \u001b[1m0s\u001b[0m 20ms/step - accuracy: 0.8189 - loss: 0.5052 - val_accuracy: 0.6000 - val_loss: 0.6148\n",
      "Epoch 5/100\n",
      "\u001b[1m5/5\u001b[0m \u001b[32m━━━━━━━━━━━━━━━━━━━━\u001b[0m\u001b[37m\u001b[0m \u001b[1m0s\u001b[0m 20ms/step - accuracy: 0.7842 - loss: 0.4914 - val_accuracy: 0.7000 - val_loss: 0.6433\n",
      "Epoch 6/100\n",
      "\u001b[1m5/5\u001b[0m \u001b[32m━━━━━━━━━━━━━━━━━━━━\u001b[0m\u001b[37m\u001b[0m \u001b[1m0s\u001b[0m 19ms/step - accuracy: 0.8859 - loss: 0.3817 - val_accuracy: 0.7000 - val_loss: 0.6708\n",
      "Epoch 7/100\n",
      "\u001b[1m5/5\u001b[0m \u001b[32m━━━━━━━━━━━━━━━━━━━━\u001b[0m\u001b[37m\u001b[0m \u001b[1m0s\u001b[0m 21ms/step - accuracy: 0.9041 - loss: 0.3839 - val_accuracy: 0.7000 - val_loss: 0.6893\n",
      "Epoch 8/100\n",
      "\u001b[1m5/5\u001b[0m \u001b[32m━━━━━━━━━━━━━━━━━━━━\u001b[0m\u001b[37m\u001b[0m \u001b[1m0s\u001b[0m 19ms/step - accuracy: 0.8911 - loss: 0.3052 - val_accuracy: 0.7000 - val_loss: 0.7150\n",
      "Epoch 9/100\n",
      "\u001b[1m5/5\u001b[0m \u001b[32m━━━━━━━━━━━━━━━━━━━━\u001b[0m\u001b[37m\u001b[0m \u001b[1m0s\u001b[0m 18ms/step - accuracy: 0.9791 - loss: 0.2782 - val_accuracy: 0.7000 - val_loss: 0.7425\n",
      "Epoch 10/100\n",
      "\u001b[1m5/5\u001b[0m \u001b[32m━━━━━━━━━━━━━━━━━━━━\u001b[0m\u001b[37m\u001b[0m \u001b[1m0s\u001b[0m 19ms/step - accuracy: 0.9895 - loss: 0.2980 - val_accuracy: 0.7000 - val_loss: 0.7665\n",
      "Epoch 11/100\n",
      "\u001b[1m5/5\u001b[0m \u001b[32m━━━━━━━━━━━━━━━━━━━━\u001b[0m\u001b[37m\u001b[0m \u001b[1m0s\u001b[0m 18ms/step - accuracy: 0.9373 - loss: 0.2225 - val_accuracy: 0.6500 - val_loss: 0.8018\n",
      "\u001b[1m1/1\u001b[0m \u001b[32m━━━━━━━━━━━━━━━━━━━━\u001b[0m\u001b[37m\u001b[0m \u001b[1m0s\u001b[0m 66ms/step\n",
      "Classification Report:\n",
      "               precision    recall  f1-score   support\n",
      "\n",
      "           0       0.58      0.92      0.71        12\n",
      "           1       0.80      0.33      0.47        12\n",
      "\n",
      "    accuracy                           0.62        24\n",
      "   macro avg       0.69      0.62      0.59        24\n",
      "weighted avg       0.69      0.62      0.59        24\n",
      "\n"
     ]
    },
    {
     "data": {
      "image/png": "[encoded data removed]",
      "text/plain": [
       "<Figure size 640x480 with 2 Axes>"
      ]
     },
     "metadata": {},
     "output_type": "display_data"
    },
    {
     "name": "stderr",
     "output_type": "stream",
     "text": [
      "WARNING:absl:You are saving your model as an HDF5 file via `model.save()` or `keras.saving.save_model(model)`. This file format is considered legacy. We recommend using instead the native Keras format, e.g. `model.save('my_model.keras')` or `keras.saving.save_model(model, 'my_model.keras')`. \n"
     ]
    }
   ],
   "source": [
    "# 8. EXECUTION\n",
    "df = build_dataset(RIPE_DIR, UNRIPE_DIR)\n",
    "X_train, X_test, y_train, y_test, scaler = prepare_data(df)\n",
    "model = create_model(input_dim=X_train.shape[1])\n",
    "model, history = train_model(model, X_train, y_train)\n",
    "evaluate_model(model, X_test, y_test, threshold=0.6)\n",
    "model.save(MODEL_SAVE_PATH)"
   ]
  },
  {
   "cell_type": "code",
   "execution_count": null,
   "id": "49368fce-f4bf-4bcc-a091-d92617afff87",
   "metadata": {},
   "outputs": [
    {
     "name": "stdout",
     "output_type": "stream",
     "text": [
      "\u001b[1m1/1\u001b[0m \u001b[32m━━━━━━━━━━━━━━━━━━━━\u001b[0m\u001b[37m\u001b[0m \u001b[1m0s\u001b[0m 46ms/step\n",
      "ripe1.wav -> Unripe (Prob: 0.46)\n",
      "\u001b[1m1/1\u001b[0m \u001b[32m━━━━━━━━━━━━━━━━━━━━\u001b[0m\u001b[37m\u001b[0m \u001b[1m0s\u001b[0m 36ms/step\n",
      "ripe10.wav -> Unripe (Prob: 0.56)\n",
      "\u001b[1m1/1\u001b[0m \u001b[32m━━━━━━━━━━━━━━━━━━━━\u001b[0m\u001b[37m\u001b[0m \u001b[1m0s\u001b[0m 36ms/step\n",
      "ripe2.wav -> Unripe (Prob: 0.49)\n",
      "\u001b[1m1/1\u001b[0m \u001b[32m━━━━━━━━━━━━━━━━━━━━\u001b[0m\u001b[37m\u001b[0m \u001b[1m0s\u001b[0m 39ms/step\n",
      "ripe3.wav -> Ripe (Prob: 0.60)\n",
      "\u001b[1m1/1\u001b[0m \u001b[32m━━━━━━━━━━━━━━━━━━━━\u001b[0m\u001b[37m\u001b[0m \u001b[1m0s\u001b[0m 36ms/step\n",
      "ripe4.wav -> Unripe (Prob: 0.56)\n",
      "\u001b[1m1/1\u001b[0m \u001b[32m━━━━━━━━━━━━━━━━━━━━\u001b[0m\u001b[37m\u001b[0m \u001b[1m0s\u001b[0m 37ms/step\n",
      "ripe5.wav -> Ripe (Prob: 0.66)\n",
      "\u001b[1m1/1\u001b[0m \u001b[32m━━━━━━━━━━━━━━━━━━━━\u001b[0m\u001b[37m\u001b[0m \u001b[1m0s\u001b[0m 36ms/step\n",
      "ripe6.wav -> Unripe (Prob: 0.60)\n",
      "\u001b[1m1/1\u001b[0m \u001b[32m━━━━━━━━━━━━━━━━━━━━\u001b[0m\u001b[37m\u001b[0m \u001b[1m0s\u001b[0m 37ms/step\n",
      "ripe7.wav -> Unripe (Prob: 0.53)\n",
      "\u001b[1m1/1\u001b[0m \u001b[32m━━━━━━━━━━━━━━━━━━━━\u001b[0m\u001b[37m\u001b[0m \u001b[1m0s\u001b[0m 86ms/step\n",
      "ripe8.wav -> Unripe (Prob: 0.56)\n",
      "\u001b[1m1/1\u001b[0m \u001b[32m━━━━━━━━━━━━━━━━━━━━\u001b[0m\u001b[37m\u001b[0m \u001b[1m0s\u001b[0m 36ms/step\n",
      "ripe9.wav -> Unripe (Prob: 0.53)\n",
      "\u001b[1m1/1\u001b[0m \u001b[32m━━━━━━━━━━━━━━━━━━━━\u001b[0m\u001b[37m\u001b[0m \u001b[1m0s\u001b[0m 37ms/step\n",
      "unripe1.wav -> Unripe (Prob: 0.37)\n",
      "\u001b[1m1/1\u001b[0m \u001b[32m━━━━━━━━━━━━━━━━━━━━\u001b[0m\u001b[37m\u001b[0m \u001b[1m0s\u001b[0m 35ms/step\n",
      "unripe10.wav -> Ripe (Prob: 0.64)\n",
      "\u001b[1m1/1\u001b[0m \u001b[32m━━━━━━━━━━━━━━━━━━━━\u001b[0m\u001b[37m\u001b[0m \u001b[1m0s\u001b[0m 36ms/step\n",
      "unripe2.wav -> Unripe (Prob: 0.36)\n",
      "\u001b[1m1/1\u001b[0m \u001b[32m━━━━━━━━━━━━━━━━━━━━\u001b[0m\u001b[37m\u001b[0m \u001b[1m0s\u001b[0m 38ms/step\n",
      "unripe3.wav -> Unripe (Prob: 0.40)\n",
      "\u001b[1m1/1\u001b[0m \u001b[32m━━━━━━━━━━━━━━━━━━━━\u001b[0m\u001b[37m\u001b[0m \u001b[1m0s\u001b[0m 37ms/step\n",
      "unripe4.wav -> Unripe (Prob: 0.34)\n",
      "\u001b[1m1/1\u001b[0m \u001b[32m━━━━━━━━━━━━━━━━━━━━\u001b[0m\u001b[37m\u001b[0m \u001b[1m0s\u001b[0m 36ms/step\n",
      "unripe5.wav -> Unripe (Prob: 0.44)\n",
      "\u001b[1m1/1\u001b[0m \u001b[32m━━━━━━━━━━━━━━━━━━━━\u001b[0m\u001b[37m\u001b[0m \u001b[1m0s\u001b[0m 37ms/step\n",
      "unripe6.wav -> Unripe (Prob: 0.42)\n",
      "\u001b[1m1/1\u001b[0m \u001b[32m━━━━━━━━━━━━━━━━━━━━\u001b[0m\u001b[37m\u001b[0m \u001b[1m0s\u001b[0m 37ms/step\n",
      "unripe7.wav -> Unripe (Prob: 0.48)\n",
      "\u001b[1m1/1\u001b[0m \u001b[32m━━━━━━━━━━━━━━━━━━━━\u001b[0m\u001b[37m\u001b[0m \u001b[1m0s\u001b[0m 37ms/step\n",
      "unripe8.wav -> Unripe (Prob: 0.55)\n",
      "\u001b[1m1/1\u001b[0m \u001b[32m━━━━━━━━━━━━━━━━━━━━\u001b[0m\u001b[37m\u001b[0m \u001b[1m0s\u001b[0m 38ms/step\n",
      "unripe9.wav -> Unripe (Prob: 0.46)\n"
     ]
    }
   ],
   "source": [
    "# 9. PREDICT FROM NEW SAMPLES\n",
    "SAMPLE_FOLDER = \"samples/\"\n",
    "\n",
    "def predict_sample(file_path, model, scaler, threshold=0.6):\n",
    "    features = extract_features(file_path)\n",
    "    X = pd.DataFrame([features])\n",
    "    X_scaled = scaler.transform(X)\n",
    "    prob = model.predict(X_scaled)[0][0]\n",
    "    label = \"Ripe\" if prob > threshold else \"Unripe\"\n",
    "    print(f\"{os.path.basename(file_path)} -> {label} (Prob: {prob:.2f})\")\n",
    "\n",
    "# Run prediction on all .wav files in samples/\n",
    "for file in os.listdir(SAMPLE_FOLDER):\n",
    "    if file.endswith(\".wav\"):\n",
    "        predict_sample(os.path.join(SAMPLE_FOLDER, file), model, scaler, threshold=0.6)\n",
    "        \n"
   ]
  },
  {
   "cell_type": "code",
   "execution_count": null,
   "id": "b126274c-b400-433c-aab8-b2bcb2bc4050",
   "metadata": {},
   "outputs": [],
   "source": []
  }
 ],
 "metadata": {
  "kernelspec": {
   "display_name": "Python 3 (ipykernel)",
   "language": "python",
   "name": "python3"
  },
  "language_info": {
   "codemirror_mode": {
    "name": "ipython",
    "version": 3
   },
   "file_extension": ".py",
   "mimetype": "text/x-python",
   "name": "python",
   "nbconvert_exporter": "python",
   "pygments_lexer": "ipython3",
   "version": "3.10.16"
  }
 },
 "nbformat": 4,
 "nbformat_minor": 5
}

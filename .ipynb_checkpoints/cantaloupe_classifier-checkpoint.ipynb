{
 "cells": [
  {
   "cell_type": "code",
   "execution_count": null,
   "id": "a41f8a4d-4ac6-447b-9c9b-221cbd85a210",
   "metadata": {},
   "outputs": [],
   "source": [
    "import os\n",
    "import numpy as np\n",
    "import pandas as pd\n",
    "import librosa\n",
    "import matplotlib.pyplot as plt\n",
    "from sklearn.preprocessing import LabelEncoder\n",
    "from sklearn.model_selection import train_test_split\n",
    "from keras.models import Sequential\n",
    "from keras.layers import Dense\n",
    "from keras.utils import to_categorical"
   ]
  },
  {
   "cell_type": "code",
   "execution_count": null,
   "id": "31264748-85b5-4f85-9ed4-0b38d8e65692",
   "metadata": {},
   "outputs": [],
   "source": [
    "def extract_features(file_path):\n",
    "    y, sr = librosa.load(file_path, sr=44100)  # Standard sampling rate\n",
    "\n",
    "    mfccs = np.mean(librosa.feature.mfcc(y=y, sr=sr, n_mfcc=13).T, axis=0)\n",
    "    chroma = np.mean(librosa.feature.chroma_stft(y=y, sr=sr).T, axis=0)\n",
    "    centroid = np.mean(librosa.feature.spectral_centroid(y=y, sr=sr).T)\n",
    "    rolloff = np.mean(librosa.feature.spectral_rolloff(y=y, sr=sr).T)\n",
    "    zero_cross = np.mean(librosa.feature.zero_crossing_rate(y).T)\n",
    "    rmse = np.mean(librosa.feature.rms(y=y).T)\n",
    "\n",
    "    return np.hstack([mfccs, chroma, centroid, rolloff, zero_cross, rmse])\n"
   ]
  },
  {
   "cell_type": "code",
   "execution_count": null,
   "id": "c00f38c4-2e07-468d-8a2a-dff9dd96736b",
   "metadata": {},
   "outputs": [],
   "source": [
    "base_path = \".\"  # Use \".\" if notebook is in same folder as your wav files\n",
    "\n",
    "features = []\n",
    "labels = []\n",
    "\n",
    "for file in os.listdir(base_path):\n",
    "    if file.endswith(\".wav\"):\n",
    "        label = 'ripe' if 'ripe' in file.lower() else 'unripe'\n",
    "        file_path = os.path.join(base_path, file)\n",
    "        feat = extract_features(file_path)\n",
    "        features.append(feat)\n",
    "        labels.append(label)"
   ]
  },
  {
   "cell_type": "code",
   "execution_count": null,
   "id": "c20b2fa6-5366-4e2b-a0d8-0d9c6445fb78",
   "metadata": {},
   "outputs": [],
   "source": [
    "df = pd.DataFrame(features)\n",
    "df['label'] = labels\n",
    "\n",
    "# Encode labels\n",
    "le = LabelEncoder()\n",
    "y_encoded = le.fit_transform(df['label'])\n",
    "y = to_categorical(y_encoded)\n",
    "\n",
    "# Drop label column for features\n",
    "X = df.drop('label', axis=1).values\n",
    "\n",
    "# Split\n",
    "X_train, X_test, y_train, y_test = train_test_split(X, y, test_size=0.2, random_state=42)"
   ]
  },
  {
   "cell_type": "code",
   "execution_count": null,
   "id": "a3904ab7-b453-43f5-99ab-2513bc242a9f",
   "metadata": {},
   "outputs": [],
   "source": [
    "# 📌 Step 5: Build and Train the ANN\n",
    "model = Sequential()\n",
    "model.add(Dense(128, input_shape=(X.shape[1],), activation='relu'))\n",
    "model.add(Dense(64, activation='relu'))\n",
    "model.add(Dense(2, activation='softmax'))  # 2 classes: ripe, unripe\n",
    "\n",
    "model.compile(optimizer='adam', loss='categorical_crossentropy', metrics=['accuracy'])\n",
    "\n",
    "# Train\n",
    "history = model.fit(X_train, y_train, epochs=50, batch_size=8, validation_data=(X_test, y_test))\n"
   ]
  },
  {
   "cell_type": "code",
   "execution_count": null,
   "id": "9aa29cc7-69d6-4405-b9ae-1f113c2427f4",
   "metadata": {},
   "outputs": [],
   "source": [
    "# 📌 Step 6: Plotting Accuracy\n",
    "plt.figure(figsize=(10, 4))\n",
    "\n",
    "plt.subplot(1, 2, 1)\n",
    "plt.plot(history.history['accuracy'], label='Train')\n",
    "plt.plot(history.history['val_accuracy'], label='Validation')\n",
    "plt.title('Model Accuracy')\n",
    "plt.xlabel('Epoch')\n",
    "plt.ylabel('Accuracy')\n",
    "plt.legend()\n",
    "plt.grid()\n",
    "\n",
    "# 📌 Plotting Loss\n",
    "plt.subplot(1, 2, 2)\n",
    "plt.plot(history.history['loss'], label='Train')\n",
    "plt.plot(history.history['val_loss'], label='Validation')\n",
    "plt.title('Model Loss')\n",
    "plt.xlabel('Epoch')\n",
    "plt.ylabel('Loss')\n",
    "plt.legend()\n",
    "plt.grid()\n",
    "\n",
    "plt.tight_layout()\n",
    "plt.show()\n"
   ]
  },
  {
   "cell_type": "code",
   "execution_count": null,
   "id": "ea19f562-35ba-4657-a485-6c634d4d924a",
   "metadata": {},
   "outputs": [],
   "source": [
    "# 📌 Step 7: Evaluate Model\n",
    "loss, acc = model.evaluate(X_test, y_test)\n",
    "print(f\"\\n✅ Final Test Accuracy: {acc:.2f}\")\n"
   ]
  }
 ],
 "metadata": {
  "kernelspec": {
   "display_name": "Python 3 (ipykernel)",
   "language": "python",
   "name": "python3"
  },
  "language_info": {
   "codemirror_mode": {
    "name": "ipython",
    "version": 3
   },
   "file_extension": ".py",
   "mimetype": "text/x-python",
   "name": "python",
   "nbconvert_exporter": "python",
   "pygments_lexer": "ipython3",
   "version": "3.10.16"
  }
 },
 "nbformat": 4,
 "nbformat_minor": 5
}
